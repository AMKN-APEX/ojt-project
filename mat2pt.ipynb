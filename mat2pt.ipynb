{
 "cells": [
  {
   "cell_type": "code",
   "execution_count": 2,
   "id": "75538e47",
   "metadata": {},
   "outputs": [],
   "source": [
    "import os\n",
    "import numpy as np\n",
    "import h5py\n",
    "import torch\n",
    "import scipy.io as sio"
   ]
  },
  {
   "cell_type": "code",
   "execution_count": 3,
   "id": "7df1243c",
   "metadata": {},
   "outputs": [],
   "source": [
    "# --- 定数の設定 ---\n",
    "# .matのtargetデータフォルダ場所\n",
    "MAT_TARGET_PATH = \"/mnt/c/Users/onion/Documents/data\"\n",
    "# .ptのtargetデータフォルダ保存場所\n",
    "PT_TARGET_PATH = \"/mnt/c/Users/onion/Documents/processed_data/target\"\n",
    "# targetファイル名\n",
    "TARGET_NAMES = [\"m_train\", \"m_val\", \"m_test\", \"kappa_train\", \"kappa_val\", \"kappa_test\"]\n",
    "\n",
    "\n",
    "\n",
    "MAT_PATH = \"/mnt/c/Users/onion/Documents/data/structures_train\"\n",
    "PT_PATH = \"/mnt/c/Users/onion/Documents/processed_data/train\""
   ]
  },
  {
   "cell_type": "code",
   "execution_count": 4,
   "id": "965a6d6d",
   "metadata": {},
   "outputs": [
    {
     "name": "stdout",
     "output_type": "stream",
     "text": [
      "['y']\n",
      "['y']\n",
      "['y']\n",
      "['y']\n",
      "['y']\n",
      "['y']\n"
     ]
    }
   ],
   "source": [
    "# ---keyの取得 ---\n",
    "for TARGET_NAME in TARGET_NAMES:\n",
    "    mat_target_path = os.path.join(MAT_TARGET_PATH, f\"{TARGET_NAME}.mat\")\n",
    "\n",
    "    with h5py.File(mat_target_path, \"r\") as f:\n",
    "        keys = list(f.keys())\n",
    "        print(keys)\n"
   ]
  },
  {
   "cell_type": "code",
   "execution_count": null,
   "id": "8f22eb63",
   "metadata": {},
   "outputs": [],
   "source": [
    "# --- keyの設定 ---\n",
    "# 上記のコードから取得したキーからほしいデータだけを指定する\n",
    "TARGET_KEYS = ['y', 'y', 'y', 'y', 'y', 'y']"
   ]
  },
  {
   "cell_type": "code",
   "execution_count": null,
   "id": "6cbe3459",
   "metadata": {},
   "outputs": [
    {
     "name": "stdout",
     "output_type": "stream",
     "text": [
      "/mnt/c/Users/onion/Documents/processed_data/target/m_train.pt が作成されました。\n",
      "/mnt/c/Users/onion/Documents/processed_data/target/m_val.pt が作成されました。\n",
      "/mnt/c/Users/onion/Documents/processed_data/target/m_test.pt が作成されました。\n",
      "/mnt/c/Users/onion/Documents/processed_data/target/kappa_train.pt が作成されました。\n",
      "/mnt/c/Users/onion/Documents/processed_data/target/kappa_val.pt が作成されました。\n",
      "/mnt/c/Users/onion/Documents/processed_data/target/kappa_test.pt が作成されました。\n"
     ]
    }
   ],
   "source": [
    "# --- targetのmat2pt ---\n",
    "# pathのディレクトリ部分が存在しない場合は作成、存在してもエラーにしない\n",
    "os.makedirs(os.path.dirname(PT_TARGET_PATH), exist_ok=True)\n",
    "\n",
    "for TARGET_KEY in TARGET_KEYS:\n",
    "    for TARGET_NAME in TARGET_NAMES:\n",
    "        mat_target_path = os.path.join(MAT_TARGET_PATH, f\"{TARGET_NAME}.mat\")\n",
    "        pt_target_path = os.path.join(PT_TARGET_PATH, f\"{TARGET_NAME}.pt\")\n",
    "\n",
    "        # MATLABファイルを読み込み、指定された変数をPyTorchのテンソルに変換して保存\n",
    "        with h5py.File(mat_target_path, \"r\") as f:\n",
    "            data = f[TARGET_KEY]\n",
    "            data = np.array(data).T\n",
    "            data = torch.tensor(data)\n",
    "            torch.save(data, pt_target_path)\n",
    "\n",
    "            if os.path.exists(f\"{pt_target_path}\"):\n",
    "                print(f\"{pt_target_path} が作成されました。\")"
   ]
  },
  {
   "cell_type": "code",
   "execution_count": null,
   "id": "b32b5d05",
   "metadata": {},
   "outputs": [],
   "source": [
    "# --- structureのmat2pt ---\n",
    "os.makedirs(os.path.dirname(PT_PATH), exist_ok=True)\n",
    "num_mat_files = len(os.listdir(MAT_PATH))\n",
    "\n",
    "for i in range(5):\n",
    "    mat_path = os.path.join(MAT_PATH, f\"structure_{i+1}.mat\")\n",
    "    pt_path = os.path.join(PT_PATH, f\"structure_{i+1}.pt\")\n",
    "\n",
    "    data = sio.loadmat(mat_path)\n",
    "    key = data.keys()\n",
    "    data = data['BW']\n",
    "\n",
    "    # data = np.array(data).T\n",
    "    # data = torch.tensor(data)\n",
    "    # torch.save(data, pt_path)"
   ]
  }
 ],
 "metadata": {
  "kernelspec": {
   "display_name": ".venv",
   "language": "python",
   "name": "python3"
  },
  "language_info": {
   "codemirror_mode": {
    "name": "ipython",
    "version": 3
   },
   "file_extension": ".py",
   "mimetype": "text/x-python",
   "name": "python",
   "nbconvert_exporter": "python",
   "pygments_lexer": "ipython3",
   "version": "3.12.3"
  }
 },
 "nbformat": 4,
 "nbformat_minor": 5
}
