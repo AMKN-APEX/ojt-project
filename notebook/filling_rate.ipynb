{
 "cells": [
  {
   "cell_type": "markdown",
   "id": "60abf77c",
   "metadata": {},
   "source": [
    "# 構造データの充填率 filling rateを求める\n",
    "今回は構造データの0(空孔)と1(固体)の割合(充填率 : filling_rate)と目的変数(m, kappa)の相関関係を見ていくための準備である。"
   ]
  },
  {
   "cell_type": "code",
   "execution_count": 4,
   "id": "cfe00945",
   "metadata": {},
   "outputs": [],
   "source": [
    "# --- ライブラリのインポート ---\n",
    "import os\n",
    "import numpy as np\n",
    "import h5py\n",
    "import scipy.io as sio"
   ]
  },
  {
   "cell_type": "code",
   "execution_count": 5,
   "id": "0760510a",
   "metadata": {},
   "outputs": [
    {
     "name": "stdout",
     "output_type": "stream",
     "text": [
      "/mnt/c/Users/onion/Documents/analysis が作成されました。\n",
      "[63000, 13500, 13500]\n"
     ]
    }
   ],
   "source": [
    "# --- 定数の設定 ---\n",
    "# .matのデータフォルダ場所\n",
    "MAT_PATH = \"/mnt/c/Users/onion/Documents/data\"\n",
    "\n",
    "# npyのデータフォルダ保存場所\n",
    "NPY_PATH = f\"/mnt/c/Users/onion/Documents/analysis\"\n",
    "\n",
    "# pathのディレクトリ部分が存在しない場合は作成、存在してもエラーにしない\n",
    "os.makedirs(NPY_PATH, exist_ok=True)\n",
    "print(f\"{NPY_PATH} が作成されました。\")\n",
    "\n",
    "# targetのデータ名\n",
    "TARGET_NAMES = [\"m_train\", \"m_val\", \"m_test\", \"kappa_train\", \"kappa_val\", \"kappa_test\"]\n",
    "\n",
    "# 保存データ名\n",
    "SAVE_NAMES = [\"FR_train\", \"FR_val\", \"FR_test\"]\n",
    "\n",
    "# .matのstructureデータフォルダ場所\n",
    "STRUCTURE_MAT_PATHS = [os.path.join(MAT_PATH, \"structures_train\"),\n",
    "                      os.path.join(MAT_PATH, \"structures_val\"),\n",
    "                      os.path.join(MAT_PATH, \"structures_test\")]\n",
    "\n",
    "# .matのstructureファイル数\n",
    "STRUCTURE_MAT_NUMS = [len([f for f in os.listdir(path) if f.endswith(\".mat\")]) for path in STRUCTURE_MAT_PATHS]\n",
    "print(STRUCTURE_MAT_NUMS)\n"
   ]
  },
  {
   "cell_type": "code",
   "execution_count": 6,
   "id": "9366165a",
   "metadata": {},
   "outputs": [
    {
     "name": "stdout",
     "output_type": "stream",
     "text": [
      "m_train.mat のkeyは ['y'] が設定されているよ\n",
      "m_val.mat のkeyは ['y'] が設定されているよ\n",
      "m_test.mat のkeyは ['y'] が設定されているよ\n",
      "kappa_train.mat のkeyは ['y'] が設定されているよ\n",
      "kappa_val.mat のkeyは ['y'] が設定されているよ\n",
      "kappa_test.mat のkeyは ['y'] が設定されているよ\n",
      "structure_0.mat のkeyは ['__header__', '__version__', '__globals__', 'BW'] が設定されているよ\n",
      "structure_1.mat のkeyは ['__header__', '__version__', '__globals__', 'BW'] が設定されているよ\n",
      "structure_2.mat のkeyは ['__header__', '__version__', '__globals__', 'BW'] が設定されているよ\n"
     ]
    }
   ],
   "source": [
    "# --- keyの取得 ---\n",
    "# targetのkeysを取得\n",
    "for TARGET_NAME in TARGET_NAMES:\n",
    "    target_mat_path = os.path.join(MAT_PATH, f\"{TARGET_NAME}.mat\")\n",
    "\n",
    "    with h5py.File(target_mat_path, \"r\") as f:\n",
    "        keys = list(f.keys())\n",
    "        print(f\"{TARGET_NAME}.mat のkeyは {keys} が設定されているよ\")\n",
    "\n",
    "# 初めの3つのstructureのkeysを取得\n",
    "for i in range(3):\n",
    "    train_structure_mat_path = os.path.join(STRUCTURE_MAT_PATHS[0], f\"structure_{i+1}.mat\")\n",
    "    data = sio.loadmat(train_structure_mat_path)\n",
    "    keys = list(data.keys())\n",
    "    print(f\"structure_{i}.mat のkeyは {keys} が設定されているよ\")"
   ]
  },
  {
   "cell_type": "code",
   "execution_count": 7,
   "id": "13c536aa",
   "metadata": {},
   "outputs": [],
   "source": [
    "# --- keyの設定 ---\n",
    "# 上記のコードから取得したキーからほしいデータだけを指定する\n",
    "# ただし、キーがすべて同じである前提である\n",
    "TARGET_KEY = 'y'\n",
    "STRUCTURE_KEY = 'BW'"
   ]
  },
  {
   "cell_type": "code",
   "execution_count": 5,
   "id": "f424bbfe",
   "metadata": {},
   "outputs": [
    {
     "name": "stdout",
     "output_type": "stream",
     "text": [
      "m_train.npy が作成されました。\n",
      "m_val.npy が作成されました。\n",
      "m_test.npy が作成されました。\n",
      "kappa_train.npy が作成されました。\n",
      "kappa_val.npy が作成されました。\n",
      "kappa_test.npy が作成されました。\n"
     ]
    }
   ],
   "source": [
    "# --- targetのmat2npy ---\n",
    "for TARGET_NAME in TARGET_NAMES:\n",
    "    target_mat_path = os.path.join(MAT_PATH, f\"{TARGET_NAME}.mat\")\n",
    "    target_npy_path = os.path.join(NPY_PATH, f\"{TARGET_NAME}.npy\")\n",
    "\n",
    "    # MATLABファイルを読み込み、指定された変数をPyTorchのテンソルに変換して保存\n",
    "    with h5py.File(target_mat_path, \"r\") as f:\n",
    "        data = f[TARGET_KEY]\n",
    "        data = np.array(data).T\n",
    "        np.save(target_npy_path, data)\n",
    "\n",
    "        if os.path.exists(target_npy_path):\n",
    "            print(f\"{TARGET_NAME}.npy が作成されました。\")"
   ]
  },
  {
   "cell_type": "code",
   "execution_count": 8,
   "id": "50afebd6",
   "metadata": {},
   "outputs": [],
   "source": [
    "# --- structureのmat2npy (Filling rate) ---\n",
    "for i in range(1, 3):# range(len(STRUCTURE_MAT_PATHS)):\n",
    "\n",
    "    filling_rate = []\n",
    "\n",
    "    for j in range(STRUCTURE_MAT_NUMS[i]):\n",
    "        structure_mat_path = os.path.join(STRUCTURE_MAT_PATHS[i], f\"structure_{j+1}.mat\")\n",
    "        FR_npy_path = os.path.join(NPY_PATH, f\"{SAVE_NAMES[i]}.npy\")\n",
    "\n",
    "        data = sio.loadmat(structure_mat_path)\n",
    "        data = data[STRUCTURE_KEY]\n",
    "        data = np.array(data)\n",
    "\n",
    "        filling_rate.append(np.sum(data) / data.size)\n",
    "\n",
    "    np.save(FR_npy_path, filling_rate)"
   ]
  }
 ],
 "metadata": {
  "kernelspec": {
   "display_name": ".venv",
   "language": "python",
   "name": "python3"
  },
  "language_info": {
   "codemirror_mode": {
    "name": "ipython",
    "version": 3
   },
   "file_extension": ".py",
   "mimetype": "text/x-python",
   "name": "python",
   "nbconvert_exporter": "python",
   "pygments_lexer": "ipython3",
   "version": "3.12.3"
  }
 },
 "nbformat": 4,
 "nbformat_minor": 5
}
