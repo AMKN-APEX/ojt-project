{
 "cells": [
  {
   "cell_type": "code",
   "execution_count": null,
   "id": "12c35458",
   "metadata": {},
   "outputs": [],
   "source": [
    "from src.dataset import PorousDataset"
   ]
  },
  {
   "cell_type": "code",
   "execution_count": null,
   "id": "3d799cbc",
   "metadata": {},
   "outputs": [],
   "source": [
    "# train以外の場合、適宜変更すること\n",
    "DATA_DIR = \"/mnt/c/Users/onion/Documents/slice_data_x_y_z_1/train\"\n",
    "M_PATH = \"/mnt/c/Users/onion/Documents/slice_data_x_y_z_1/target/m_train.pt\"\n",
    "KAPPA_PATH = \"/mnt/c/Users/onion/Documents/slice_data_x_y_z_1/target/kappa_train.pt\"\n",
    "\n",
    "train_dataset = PorousDataset(DATA_DIR, M_PATH, KAPPA_PATH, nums_data=1000)"
   ]
  }
 ],
 "metadata": {
  "kernelspec": {
   "display_name": ".venv",
   "language": "python",
   "name": "python3"
  },
  "language_info": {
   "name": "python",
   "version": "3.12.3"
  }
 },
 "nbformat": 4,
 "nbformat_minor": 5
}
